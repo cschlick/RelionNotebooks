{
 "cells": [
  {
   "cell_type": "markdown",
   "metadata": {},
   "source": [
    "In this notebook the FSC curves from some relion star files are plotted"
   ]
  },
  {
   "cell_type": "code",
   "execution_count": 1,
   "metadata": {},
   "outputs": [],
   "source": [
    "from StarIO import read_star, write_star # Star IO functions from here: https://github.com/cschlick/StarIO\n",
    "import pandas as pd \n",
    "%matplotlib inline "
   ]
  },
  {
   "cell_type": "code",
   "execution_count": 3,
   "metadata": {},
   "outputs": [],
   "source": [
    "df_dict = read_star(\"examples/run_it013_half2_model.star\")"
   ]
  },
  {
   "cell_type": "code",
   "execution_count": 6,
   "metadata": {},
   "outputs": [
    {
     "data": {
      "text/plain": [
       "dict_keys(['model_general', 'model_classes', 'model_class_1', 'model_groups', 'model_group_1', 'model_group_2', 'model_group_3', 'model_group_4', 'model_group_5', 'model_group_6', 'model_group_7', 'model_group_8', 'model_group_9', 'model_group_10', 'model_group_11', 'model_group_12', 'model_group_13', 'model_group_14', 'model_group_15', 'model_group_16', 'model_group_17', 'model_group_18', 'model_group_19', 'model_group_20', 'model_group_21', 'model_group_22', 'model_group_23', 'model_group_24', 'model_group_25', 'model_group_26', 'model_group_27', 'model_group_28', 'model_group_29', 'model_group_30', 'model_group_31', 'model_group_32', 'model_group_33', 'model_group_34', 'model_group_35', 'model_group_36', 'model_group_37', 'model_group_38', 'model_group_39', 'model_group_40', 'model_group_41', 'model_group_42', 'model_group_43', 'model_group_44', 'model_group_45', 'model_group_46', 'model_group_47', 'model_group_48', 'model_group_49', 'model_group_50', 'model_group_51', 'model_group_52', 'model_group_53', 'model_group_54', 'model_group_55', 'model_group_56', 'model_group_57', 'model_group_58', 'model_group_59', 'model_group_60', 'model_group_61', 'model_group_62', 'model_group_63', 'model_group_64', 'model_group_65', 'model_group_66', 'model_group_67', 'model_group_68', 'model_group_69', 'model_group_70', 'model_group_71', 'model_group_72', 'model_group_73', 'model_group_74', 'model_group_75', 'model_group_76', 'model_group_77', 'model_group_78', 'model_group_79', 'model_group_80', 'model_group_81', 'model_group_82', 'model_group_83', 'model_group_84', 'model_group_85', 'model_group_86', 'model_group_87', 'model_group_88', 'model_group_89', 'model_group_90', 'model_group_91', 'model_group_92', 'model_group_93', 'model_group_94', 'model_group_95', 'model_group_96', 'model_group_97', 'model_pdf_orient_class_1'])"
      ]
     },
     "execution_count": 6,
     "metadata": {},
     "output_type": "execute_result"
    }
   ],
   "source": [
    "df_dict.keys()"
   ]
  },
  {
   "cell_type": "code",
   "execution_count": 8,
   "metadata": {},
   "outputs": [],
   "source": [
    "df = df_dict[\"model_class_1\"]"
   ]
  },
  {
   "cell_type": "code",
   "execution_count": 14,
   "metadata": {},
   "outputs": [
    {
     "data": {
      "text/html": [
       "<div>\n",
       "<style scoped>\n",
       "    .dataframe tbody tr th:only-of-type {\n",
       "        vertical-align: middle;\n",
       "    }\n",
       "\n",
       "    .dataframe tbody tr th {\n",
       "        vertical-align: top;\n",
       "    }\n",
       "\n",
       "    .dataframe thead th {\n",
       "        text-align: right;\n",
       "    }\n",
       "</style>\n",
       "<table border=\"1\" class=\"dataframe\">\n",
       "  <thead>\n",
       "    <tr style=\"text-align: right;\">\n",
       "      <th></th>\n",
       "      <th>rlnSpectralIndex</th>\n",
       "      <th>rlnResolution</th>\n",
       "      <th>rlnAngstromResolution</th>\n",
       "      <th>rlnSsnrMap</th>\n",
       "      <th>rlnGoldStandardFsc</th>\n",
       "      <th>rlnFourierCompleteness</th>\n",
       "      <th>rlnReferenceSigma2</th>\n",
       "      <th>rlnReferenceTau2</th>\n",
       "    </tr>\n",
       "  </thead>\n",
       "  <tbody>\n",
       "    <tr>\n",
       "      <td>0</td>\n",
       "      <td>0</td>\n",
       "      <td>0.000000</td>\n",
       "      <td>999.000000</td>\n",
       "      <td>999.000000</td>\n",
       "      <td>1.0</td>\n",
       "      <td>1.0</td>\n",
       "      <td>4.643938e-12</td>\n",
       "      <td>4.298404e-05</td>\n",
       "    </tr>\n",
       "    <tr>\n",
       "      <td>1</td>\n",
       "      <td>1</td>\n",
       "      <td>0.001097</td>\n",
       "      <td>911.360000</td>\n",
       "      <td>999.000000</td>\n",
       "      <td>1.0</td>\n",
       "      <td>1.0</td>\n",
       "      <td>4.736081e-11</td>\n",
       "      <td>1.893836e-05</td>\n",
       "    </tr>\n",
       "    <tr>\n",
       "      <td>2</td>\n",
       "      <td>2</td>\n",
       "      <td>0.002195</td>\n",
       "      <td>455.680000</td>\n",
       "      <td>999.000000</td>\n",
       "      <td>1.0</td>\n",
       "      <td>1.0</td>\n",
       "      <td>3.965804e-11</td>\n",
       "      <td>6.539760e-07</td>\n",
       "    </tr>\n",
       "    <tr>\n",
       "      <td>3</td>\n",
       "      <td>3</td>\n",
       "      <td>0.003292</td>\n",
       "      <td>303.786667</td>\n",
       "      <td>999.000000</td>\n",
       "      <td>1.0</td>\n",
       "      <td>1.0</td>\n",
       "      <td>3.824351e-11</td>\n",
       "      <td>9.340721e-08</td>\n",
       "    </tr>\n",
       "    <tr>\n",
       "      <td>4</td>\n",
       "      <td>4</td>\n",
       "      <td>0.004389</td>\n",
       "      <td>227.840000</td>\n",
       "      <td>999.000000</td>\n",
       "      <td>1.0</td>\n",
       "      <td>1.0</td>\n",
       "      <td>4.080577e-11</td>\n",
       "      <td>2.927222e-07</td>\n",
       "    </tr>\n",
       "    <tr>\n",
       "      <td>...</td>\n",
       "      <td>...</td>\n",
       "      <td>...</td>\n",
       "      <td>...</td>\n",
       "      <td>...</td>\n",
       "      <td>...</td>\n",
       "      <td>...</td>\n",
       "      <td>...</td>\n",
       "      <td>...</td>\n",
       "    </tr>\n",
       "    <tr>\n",
       "      <td>252</td>\n",
       "      <td>252</td>\n",
       "      <td>0.276510</td>\n",
       "      <td>3.616508</td>\n",
       "      <td>0.001001</td>\n",
       "      <td>0.0</td>\n",
       "      <td>0.0</td>\n",
       "      <td>0.000000e+00</td>\n",
       "      <td>1.092071e-17</td>\n",
       "    </tr>\n",
       "    <tr>\n",
       "      <td>253</td>\n",
       "      <td>253</td>\n",
       "      <td>0.277607</td>\n",
       "      <td>3.602213</td>\n",
       "      <td>0.001001</td>\n",
       "      <td>0.0</td>\n",
       "      <td>0.0</td>\n",
       "      <td>0.000000e+00</td>\n",
       "      <td>1.076163e-17</td>\n",
       "    </tr>\n",
       "    <tr>\n",
       "      <td>254</td>\n",
       "      <td>254</td>\n",
       "      <td>0.278704</td>\n",
       "      <td>3.588031</td>\n",
       "      <td>0.001001</td>\n",
       "      <td>0.0</td>\n",
       "      <td>0.0</td>\n",
       "      <td>0.000000e+00</td>\n",
       "      <td>1.058529e-17</td>\n",
       "    </tr>\n",
       "    <tr>\n",
       "      <td>255</td>\n",
       "      <td>255</td>\n",
       "      <td>0.279802</td>\n",
       "      <td>3.573961</td>\n",
       "      <td>0.001001</td>\n",
       "      <td>0.0</td>\n",
       "      <td>0.0</td>\n",
       "      <td>0.000000e+00</td>\n",
       "      <td>1.045772e-17</td>\n",
       "    </tr>\n",
       "    <tr>\n",
       "      <td>256</td>\n",
       "      <td>256</td>\n",
       "      <td>0.280899</td>\n",
       "      <td>3.560000</td>\n",
       "      <td>0.001001</td>\n",
       "      <td>0.0</td>\n",
       "      <td>0.0</td>\n",
       "      <td>0.000000e+00</td>\n",
       "      <td>9.792532e-18</td>\n",
       "    </tr>\n",
       "  </tbody>\n",
       "</table>\n",
       "<p>257 rows × 8 columns</p>\n",
       "</div>"
      ],
      "text/plain": [
       "     rlnSpectralIndex  rlnResolution  rlnAngstromResolution  rlnSsnrMap  \\\n",
       "0                   0       0.000000             999.000000  999.000000   \n",
       "1                   1       0.001097             911.360000  999.000000   \n",
       "2                   2       0.002195             455.680000  999.000000   \n",
       "3                   3       0.003292             303.786667  999.000000   \n",
       "4                   4       0.004389             227.840000  999.000000   \n",
       "..                ...            ...                    ...         ...   \n",
       "252               252       0.276510               3.616508    0.001001   \n",
       "253               253       0.277607               3.602213    0.001001   \n",
       "254               254       0.278704               3.588031    0.001001   \n",
       "255               255       0.279802               3.573961    0.001001   \n",
       "256               256       0.280899               3.560000    0.001001   \n",
       "\n",
       "     rlnGoldStandardFsc  rlnFourierCompleteness  rlnReferenceSigma2  \\\n",
       "0                   1.0                     1.0        4.643938e-12   \n",
       "1                   1.0                     1.0        4.736081e-11   \n",
       "2                   1.0                     1.0        3.965804e-11   \n",
       "3                   1.0                     1.0        3.824351e-11   \n",
       "4                   1.0                     1.0        4.080577e-11   \n",
       "..                  ...                     ...                 ...   \n",
       "252                 0.0                     0.0        0.000000e+00   \n",
       "253                 0.0                     0.0        0.000000e+00   \n",
       "254                 0.0                     0.0        0.000000e+00   \n",
       "255                 0.0                     0.0        0.000000e+00   \n",
       "256                 0.0                     0.0        0.000000e+00   \n",
       "\n",
       "     rlnReferenceTau2  \n",
       "0        4.298404e-05  \n",
       "1        1.893836e-05  \n",
       "2        6.539760e-07  \n",
       "3        9.340721e-08  \n",
       "4        2.927222e-07  \n",
       "..                ...  \n",
       "252      1.092071e-17  \n",
       "253      1.076163e-17  \n",
       "254      1.058529e-17  \n",
       "255      1.045772e-17  \n",
       "256      9.792532e-18  \n",
       "\n",
       "[257 rows x 8 columns]"
      ]
     },
     "execution_count": 14,
     "metadata": {},
     "output_type": "execute_result"
    }
   ],
   "source": [
    "df"
   ]
  },
  {
   "cell_type": "code",
   "execution_count": 25,
   "metadata": {},
   "outputs": [
    {
     "data": {
      "text/plain": [
       "<matplotlib.axes._subplots.AxesSubplot at 0x7fcfed5461d0>"
      ]
     },
     "execution_count": 25,
     "metadata": {},
     "output_type": "execute_result"
    },
    {
     "data": {
      "image/png": "[encoded data removed]",
      "text/plain": [
       "<Figure size 432x288 with 1 Axes>"
      ]
     },
     "metadata": {
      "needs_background": "light"
     },
     "output_type": "display_data"
    }
   ],
   "source": [
    "df.plot(y=\"rlnGoldStandardFsc\",x=\"rlnResolution\",style=\"-\")"
   ]
  },
  {
   "cell_type": "code",
   "execution_count": null,
   "metadata": {},
   "outputs": [],
   "source": []
  }
 ],
 "metadata": {
  "kernelspec": {
   "display_name": "Python 3",
   "language": "python",
   "name": "python3"
  },
  "language_info": {
   "codemirror_mode": {
    "name": "ipython",
    "version": 3
   },
   "file_extension": ".py",
   "mimetype": "text/x-python",
   "name": "python",
   "nbconvert_exporter": "python",
   "pygments_lexer": "ipython3",
   "version": "3.7.4"
  }
 },
 "nbformat": 4,
 "nbformat_minor": 1
}
