{
 "cells": [
  {
   "cell_type": "code",
   "execution_count": 48,
   "metadata": {
    "collapsed": true
   },
   "outputs": [],
   "source": [
    "from pathlib import Path\n",
    "import subprocess\n",
    "\n"
   ]
  },
  {
   "cell_type": "code",
   "execution_count": 52,
   "metadata": {
    "collapsed": true
   },
   "outputs": [],
   "source": [
    "inputdir = Path(\"rawdata/\")\n",
    "outputdir = Path(\"motioncor2_01/\")\n",
    "gainpath = Path(\"scratch_motioncor/gain_dark/norm-mercury-0.mrc\")\n",
    "binarypath = Path(\"scratch_motioncor/MotionCor2_1.1.0-Cuda80\")"
   ]
  },
  {
   "cell_type": "code",
   "execution_count": 53,
   "metadata": {},
   "outputs": [],
   "source": [
    "for file in inputdir.iterdir():\n",
    "    if file.suffix == \".mrcs\":\n",
    "        outpath = Path(outputdir,file.name.replace(file.suffix,\".mrc\"))\n",
    "        run = Run(file,outpath,gainpath)"
   ]
  },
  {
   "cell_type": "code",
   "execution_count": 50,
   "metadata": {
    "collapsed": true
   },
   "outputs": [],
   "source": [
    "class Run:\n",
    "    def __init__(self,inpath,outpath,gainpath):\n",
    "        self.inpath = inpath.as_posix()\n",
    "        self.outpath = outpath.as_posix()\n",
    "        self.gainpath = gainpath.as_posix()\n",
    "        self.logpath = Path(outputdir,inpath.name+\".log\").as_posix()\n",
    "        \n",
    "        command = binarypath.as_posix()+\"\"\" \\\n",
    "        -InMrc \"\"\"+self.inpath+\"\"\" \\\n",
    "        -OutMrc \"\"\"+self.outpath+\"\"\" \\\n",
    "        -Serial 0 \\\n",
    "        -Gpu 0 1 \\\n",
    "        -Gain \"\"\"+self.gainpath+\"\"\" \\\n",
    "        -Align 1 \\\n",
    "        -FlipGain 1 \\\n",
    "        -Iter 20 \\\n",
    "        -Tol 0.005 \\\n",
    "        -Kv 300 \\\n",
    "        -PixSize 0.65 \\\n",
    "        -FmDose 0.86 \\\n",
    "        -FtBin 4 \\\n",
    "        -OutStack 0 \\\n",
    "        >> \"\"\"+self.logpath+\"\"\"\n",
    "        \"\"\"\n",
    "        #-Mag 1.013 0.987 28.2\n",
    "        \n",
    "        subprocess.call(command, shell=True)\n",
    "        \n",
    "\n",
    "#         completed_process = subprocess.run(command.split(), shell=True,capture_output=True)\n",
    "#         self.stdout =  completed_process.stdout\n",
    "        \n",
    "        "
   ]
  },
  {
   "cell_type": "code",
   "execution_count": null,
   "metadata": {
    "collapsed": true
   },
   "outputs": [],
   "source": [
    "\n"
   ]
  }
 ],
 "metadata": {
  "kernelspec": {
   "display_name": "Python 3",
   "language": "python",
   "name": "python3"
  },
  "language_info": {
   "codemirror_mode": {
    "name": "ipython",
    "version": 3
   },
   "file_extension": ".py",
   "mimetype": "text/x-python",
   "name": "python",
   "nbconvert_exporter": "python",
   "pygments_lexer": "ipython3",
   "version": "3.7.4"
  }
 },
 "nbformat": 4,
 "nbformat_minor": 2
}
